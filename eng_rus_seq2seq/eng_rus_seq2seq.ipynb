{
 "cells": [
  {
   "cell_type": "code",
   "execution_count": 1,
   "metadata": {
    "executionInfo": {
     "elapsed": 850,
     "status": "ok",
     "timestamp": 1615199451537,
     "user": {
      "displayName": "Дмитрий Зеленин",
      "photoUrl": "https://lh3.googleusercontent.com/a-/AOh14GipAVqvGUDyzuPjOfJR-p9zFprHJyE0eR-cN_rS6Q=s64",
      "userId": "06754578418295277569"
     },
     "user_tz": -180
    },
    "id": "-YlRH3mQM9tf"
   },
   "outputs": [],
   "source": [
    "%matplotlib inline"
   ]
  },
  {
   "cell_type": "code",
   "execution_count": 2,
   "metadata": {
    "executionInfo": {
     "elapsed": 4364,
     "status": "ok",
     "timestamp": 1615199489953,
     "user": {
      "displayName": "Дмитрий Зеленин",
      "photoUrl": "https://lh3.googleusercontent.com/a-/AOh14GipAVqvGUDyzuPjOfJR-p9zFprHJyE0eR-cN_rS6Q=s64",
      "userId": "06754578418295277569"
     },
     "user_tz": -180
    },
    "id": "MIEGXF8oM9tt"
   },
   "outputs": [],
   "source": [
    "from io import open\n",
    "import unicodedata\n",
    "import string\n",
    "import re\n",
    "import random\n",
    "\n",
    "import torch\n",
    "import torch.nn as nn\n",
    "from torch import optim\n",
    "import torch.nn.functional as F\n",
    "\n",
    "device = torch.device(\"cuda\" if torch.cuda.is_available() else \"cpu\")"
   ]
  },
  {
   "cell_type": "code",
   "execution_count": 3,
   "metadata": {
    "colab": {
     "base_uri": "https://localhost:8080/"
    },
    "executionInfo": {
     "elapsed": 32468,
     "status": "ok",
     "timestamp": 1615199524818,
     "user": {
      "displayName": "Дмитрий Зеленин",
      "photoUrl": "https://lh3.googleusercontent.com/a-/AOh14GipAVqvGUDyzuPjOfJR-p9zFprHJyE0eR-cN_rS6Q=s64",
      "userId": "06754578418295277569"
     },
     "user_tz": -180
    },
    "id": "ITJc_3Dx7qlD",
    "outputId": "d86a1efc-cac6-433a-e6e1-0f9e558cf740"
   },
   "outputs": [
    {
     "name": "stdout",
     "output_type": "stream",
     "text": [
      "Mounted at /content/drive\n"
     ]
    }
   ],
   "source": [
    "from google.colab import drive\n",
    "drive.mount('/content/drive')"
   ]
  },
  {
   "cell_type": "code",
   "execution_count": 4,
   "metadata": {
    "executionInfo": {
     "elapsed": 786,
     "status": "ok",
     "timestamp": 1615199534715,
     "user": {
      "displayName": "Дмитрий Зеленин",
      "photoUrl": "https://lh3.googleusercontent.com/a-/AOh14GipAVqvGUDyzuPjOfJR-p9zFprHJyE0eR-cN_rS6Q=s64",
      "userId": "06754578418295277569"
     },
     "user_tz": -180
    },
    "id": "5YTQl4vO7uHK"
   },
   "outputs": [],
   "source": [
    "data_dir = '/content/drive/My Drive/Colab Notebooks/eng_rus_seq2seq/'"
   ]
  },
  {
   "cell_type": "code",
   "execution_count": 5,
   "metadata": {
    "colab": {
     "base_uri": "https://localhost:8080/",
     "height": 35
    },
    "executionInfo": {
     "elapsed": 790,
     "status": "ok",
     "timestamp": 1615199541159,
     "user": {
      "displayName": "Дмитрий Зеленин",
      "photoUrl": "https://lh3.googleusercontent.com/a-/AOh14GipAVqvGUDyzuPjOfJR-p9zFprHJyE0eR-cN_rS6Q=s64",
      "userId": "06754578418295277569"
     },
     "user_tz": -180
    },
    "id": "soQ3oc4DbmQH",
    "outputId": "bc2ff2ac-7709-45a9-cf69-846f590d0c8f"
   },
   "outputs": [
    {
     "data": {
      "application/vnd.google.colaboratory.intrinsic+json": {
       "type": "string"
      },
      "text/plain": [
       "'/content/drive/My Drive/Colab Notebooks/eng_rus_seq2seq/'"
      ]
     },
     "execution_count": 5,
     "metadata": {
      "tags": []
     },
     "output_type": "execute_result"
    }
   ],
   "source": [
    "data_dir"
   ]
  },
  {
   "cell_type": "code",
   "execution_count": 5,
   "metadata": {
    "colab": {
     "base_uri": "https://localhost:8080/"
    },
    "executionInfo": {
     "elapsed": 1905,
     "status": "ok",
     "timestamp": 1615058094871,
     "user": {
      "displayName": "Дмитрий Зеленин",
      "photoUrl": "https://lh3.googleusercontent.com/a-/AOh14GipAVqvGUDyzuPjOfJR-p9zFprHJyE0eR-cN_rS6Q=s64",
      "userId": "06754578418295277569"
     },
     "user_tz": -180
    },
    "id": "8UKlPFcBNZl5",
    "outputId": "387fa2cb-843e-4c09-d72c-08e6d5e41bbc"
   },
   "outputs": [
    {
     "name": "stdout",
     "output_type": "stream",
     "text": [
      "--2021-03-06 19:14:51--  https://manythings.org/anki/rus-eng.zip\n",
      "Resolving manythings.org (manythings.org)... 104.21.55.222, 172.67.173.198, 2606:4700:3031::6815:37de, ...\n",
      "Connecting to manythings.org (manythings.org)|104.21.55.222|:443... connected.\n",
      "HTTP request sent, awaiting response... 301 Moved Permanently\n",
      "Location: http://www.manythings.org/anki/rus-eng.zip [following]\n",
      "--2021-03-06 19:14:51--  http://www.manythings.org/anki/rus-eng.zip\n",
      "Resolving www.manythings.org (www.manythings.org)... 104.21.55.222, 172.67.173.198, 2606:4700:3036::ac43:adc6, ...\n",
      "Connecting to www.manythings.org (www.manythings.org)|104.21.55.222|:80... connected.\n",
      "HTTP request sent, awaiting response... 200 OK\n",
      "Length: 14042100 (13M) [application/zip]\n",
      "Saving to: ‘rus-eng.zip.1’\n",
      "\n",
      "rus-eng.zip.1       100%[===================>]  13.39M  21.9MB/s    in 0.6s    \n",
      "\n",
      "2021-03-06 19:14:52 (21.9 MB/s) - ‘rus-eng.zip.1’ saved [14042100/14042100]\n",
      "\n",
      "Archive:  rus-eng.zip\n",
      "  inflating: data_dir/rus.txt        \n",
      "  inflating: data_dir/_about.txt     \n"
     ]
    }
   ],
   "source": [
    "!wget https://manythings.org/anki/rus-eng.zip\n",
    "# !unzip rus-eng.zip\n",
    "!unzip rus-eng.zip -d data_dir"
   ]
  },
  {
   "cell_type": "code",
   "execution_count": 6,
   "metadata": {
    "colab": {
     "base_uri": "https://localhost:8080/"
    },
    "executionInfo": {
     "elapsed": 2020,
     "status": "ok",
     "timestamp": 1615199553280,
     "user": {
      "displayName": "Дмитрий Зеленин",
      "photoUrl": "https://lh3.googleusercontent.com/a-/AOh14GipAVqvGUDyzuPjOfJR-p9zFprHJyE0eR-cN_rS6Q=s64",
      "userId": "06754578418295277569"
     },
     "user_tz": -180
    },
    "id": "LG3Ub9x4FSeN",
    "outputId": "1a8d517e-ec94-4499-b961-02f70ef7208a"
   },
   "outputs": [
    {
     "name": "stdout",
     "output_type": "stream",
     "text": [
      "Tom said, \"You can kiss your girlfriend goodbye if you don't kiss her goodbye,\" which meant, \"If you don't kiss your girlfriend goodbye, then you'll never see her again.\"\t«Можешь попрощаться со своей подружкой, если ты с ней не попрощаешься», — сказал Том, что означало «если ты не попрощаешься со своей подружкой, то больше ты её никогда не увидишь».\tCC-BY 2.0 (France) Attribution: tatoeba.org #1065032 (CK) & #4435211 (sharptoothed)\n",
      "The more countries a language is spoken in, the less important it is to sound like a native speaker, since speakers of that language are accustomed to hearing various dialects.\tЧем в большем количестве стран используется тот или иной язык, тем менее важно иметь такое же произношение, как у его носителей, так как носители этого языка привыкли к звучанию различных акцентов.\tCC-BY 2.0 (France) Attribution: tatoeba.org #954354 (CK) & #4465953 (Wezel)\n",
      "A mistake young people often make is to start learning too many languages at the same time, as they underestimate the difficulties and overestimate their own ability to learn them.\tОшибка, которую часто делают молодые, — начинают учить слишком много языков одновременно: они недооценивают трудности и переоценивают свои способности к изучению.\tCC-BY 2.0 (France) Attribution: tatoeba.org #2783162 (catcher) & #5118905 (Wezel)\n",
      "We need to uphold laws against discrimination — in hiring, and in housing, and in education, and in the criminal justice system. That is what our Constitution and our highest ideals require.\tНам нужно отстаивать законы против дискриминации при найме на работу, в жилищной сфере, в сфере образования и правоохранительной системе. Этого требуют наша Конституция и высшие идеалы.\tCC-BY 2.0 (France) Attribution: tatoeba.org #5762728 (CO) & #6390439 (odexed)\n",
      "I do have one final ask of you as your president, the same thing I asked when you took a chance on me eight years ago. I'm asking you to believe, not in my ability to bring about change but in yours.\tУ меня же, как у вашего президента, есть к вам последняя просьба. Та же самая, что и восемь лет назад, когда вы оказали мне своё доверие. Я прошу вас верить, но не в мои способности добиться перемен, а в ваши.\tCC-BY 2.0 (France) Attribution: tatoeba.org #5762723 (CO) & #6390123 (odexed)\n",
      "In today's world, we have to equip all our kids with an education that prepares them for success, regardless of what they look like, or how much their parents make, or the zip code that they live in.\tВ современном мире перед нами стоит задача дать всем нашим детям такое образование, которое настроит их на успех вне зависимости от того, как они выглядят, сколько зарабатывают их родители или какой у них почтовый индекс.\tCC-BY 2.0 (France) Attribution: tatoeba.org #3924477 (CO) & #5968115 (odexed)\n",
      "Death is something that we're often discouraged to talk about or even think about, but I've realized that preparing for death is one of the most empowering things you can do. Thinking about death clarifies your life.\tСмерть - это зачастую то, разговоры или даже мысли о чем приводят в уныние, но я осознал, что готовность умереть наделяет силой, как ничто другое. Мысль о смерти вносит ясность в твою жизнь.\tCC-BY 2.0 (France) Attribution: tatoeba.org #1969892 (davearms) & #3231553 (kukla)\n",
      "At a moment when our economy is growing, our businesses are creating jobs at the fastest pace since the 1990s, and wages are starting to rise again, we have to make some choices about the kind of country we want to be.\tВ тот момент, когда наша экономика растёт, наши предприятия создают рабочие места наибольшими темпами, начиная с 90-х годов, а зарплаты снова начинают расти, мы должны принять ряд решений относительно того, какой страной мы хотим быть.\tCC-BY 2.0 (France) Attribution: tatoeba.org #3924474 (CO) & #4509418 (odexed)\n",
      "Since there are usually multiple websites on any given topic, I usually just click the back button when I arrive on any webpage that has pop-up advertising. I just go to the next page found by Google and hope for something less irritating.\tПоскольку сайтов, посвящённых какой-либо теме, как правило, несколько, я обычно просто нажимаю на кнопку \"назад\", если попадаю на страницу со всплывающей рекламой. Я просто перехожу на следующую страницу, найденную гуглом, и надеюсь найти что-то менее раздражающее.\tCC-BY 2.0 (France) Attribution: tatoeba.org #954270 (CK) & #6383010 (odexed)\n",
      "Doubtless there exists in this world precisely the right woman for any given man to marry and vice versa; but when you consider that a human being has the opportunity of being acquainted with only a few hundred people, and out of the few hundred that there are but a dozen or less whom he knows intimately, and out of the dozen, one or two friends at most, it will easily be seen, when we remember the number of millions who inhabit this world, that probably, since the earth was created, the right man has never yet met the right woman.\tНесомненно, для каждого мужчины в этом мире где-то есть подходящая женщина, которая может стать ему женой, обратное верно и для женщин. Но если учесть, что у человека может быть максимум несколько сотен знакомых, из которых лишь дюжина, а то и меньше, тех, кого он знает близко, а из этой дюжины у него один или от силы два друга, то можно легко увидеть, что с учётом миллионов живущих на Земле людей, ни один подходящий мужчина, возможно, ещё не встретил подходящую женщину.\tCC-BY 2.0 (France) Attribution: tatoeba.org #7697649 (RM) & #7730831 (odexed)\n"
     ]
    }
   ],
   "source": [
    "!tail '/content/drive/My Drive/Colab Notebooks/eng_rus_seq2seq/eng-rus.txt'"
   ]
  },
  {
   "cell_type": "code",
   "execution_count": 7,
   "metadata": {
    "executionInfo": {
     "elapsed": 741,
     "status": "ok",
     "timestamp": 1615199565321,
     "user": {
      "displayName": "Дмитрий Зеленин",
      "photoUrl": "https://lh3.googleusercontent.com/a-/AOh14GipAVqvGUDyzuPjOfJR-p9zFprHJyE0eR-cN_rS6Q=s64",
      "userId": "06754578418295277569"
     },
     "user_tz": -180
    },
    "id": "gx0crfOEodP_"
   },
   "outputs": [],
   "source": [
    "import pandas as pd"
   ]
  },
  {
   "cell_type": "markdown",
   "metadata": {
    "id": "hg2NB4f8oLN5"
   },
   "source": [
    "Здесь мешает в конце всякая реклама."
   ]
  },
  {
   "cell_type": "code",
   "execution_count": 8,
   "metadata": {
    "executionInfo": {
     "elapsed": 3118,
     "status": "ok",
     "timestamp": 1615199571135,
     "user": {
      "displayName": "Дмитрий Зеленин",
      "photoUrl": "https://lh3.googleusercontent.com/a-/AOh14GipAVqvGUDyzuPjOfJR-p9zFprHJyE0eR-cN_rS6Q=s64",
      "userId": "06754578418295277569"
     },
     "user_tz": -180
    },
    "id": "4mGRtnDXoKMq"
   },
   "outputs": [],
   "source": [
    "df = pd.read_csv('/content/drive/My Drive/Colab Notebooks/eng_rus_seq2seq/eng-rus.txt', sep='\\t', header=None).drop(2, axis=1)"
   ]
  },
  {
   "cell_type": "code",
   "execution_count": 9,
   "metadata": {
    "colab": {
     "base_uri": "https://localhost:8080/",
     "height": 197
    },
    "executionInfo": {
     "elapsed": 759,
     "status": "ok",
     "timestamp": 1615199589785,
     "user": {
      "displayName": "Дмитрий Зеленин",
      "photoUrl": "https://lh3.googleusercontent.com/a-/AOh14GipAVqvGUDyzuPjOfJR-p9zFprHJyE0eR-cN_rS6Q=s64",
      "userId": "06754578418295277569"
     },
     "user_tz": -180
    },
    "id": "hZ1gVtpjokBM",
    "outputId": "d65f1ecd-f64d-4255-a8db-17b4e2d61844"
   },
   "outputs": [
    {
     "data": {
      "text/html": [
       "<div>\n",
       "<style scoped>\n",
       "    .dataframe tbody tr th:only-of-type {\n",
       "        vertical-align: middle;\n",
       "    }\n",
       "\n",
       "    .dataframe tbody tr th {\n",
       "        vertical-align: top;\n",
       "    }\n",
       "\n",
       "    .dataframe thead th {\n",
       "        text-align: right;\n",
       "    }\n",
       "</style>\n",
       "<table border=\"1\" class=\"dataframe\">\n",
       "  <thead>\n",
       "    <tr style=\"text-align: right;\">\n",
       "      <th></th>\n",
       "      <th>0</th>\n",
       "      <th>1</th>\n",
       "    </tr>\n",
       "  </thead>\n",
       "  <tbody>\n",
       "    <tr>\n",
       "      <th>421760</th>\n",
       "      <td>In today's world, we have to equip all our kid...</td>\n",
       "      <td>В современном мире перед нами стоит задача дат...</td>\n",
       "    </tr>\n",
       "    <tr>\n",
       "      <th>421761</th>\n",
       "      <td>Death is something that we're often discourage...</td>\n",
       "      <td>Смерть - это зачастую то, разговоры или даже м...</td>\n",
       "    </tr>\n",
       "    <tr>\n",
       "      <th>421762</th>\n",
       "      <td>At a moment when our economy is growing, our b...</td>\n",
       "      <td>В тот момент, когда наша экономика растёт, наш...</td>\n",
       "    </tr>\n",
       "    <tr>\n",
       "      <th>421763</th>\n",
       "      <td>Since there are usually multiple websites on a...</td>\n",
       "      <td>Поскольку сайтов, посвящённых какой-либо теме,...</td>\n",
       "    </tr>\n",
       "    <tr>\n",
       "      <th>421764</th>\n",
       "      <td>Doubtless there exists in this world precisely...</td>\n",
       "      <td>Несомненно, для каждого мужчины в этом мире гд...</td>\n",
       "    </tr>\n",
       "  </tbody>\n",
       "</table>\n",
       "</div>"
      ],
      "text/plain": [
       "                                                        0                                                  1\n",
       "421760  In today's world, we have to equip all our kid...  В современном мире перед нами стоит задача дат...\n",
       "421761  Death is something that we're often discourage...  Смерть - это зачастую то, разговоры или даже м...\n",
       "421762  At a moment when our economy is growing, our b...  В тот момент, когда наша экономика растёт, наш...\n",
       "421763  Since there are usually multiple websites on a...  Поскольку сайтов, посвящённых какой-либо теме,...\n",
       "421764  Doubtless there exists in this world precisely...  Несомненно, для каждого мужчины в этом мире гд..."
      ]
     },
     "execution_count": 9,
     "metadata": {
      "tags": []
     },
     "output_type": "execute_result"
    }
   ],
   "source": [
    "df.tail(5)\n"
   ]
  },
  {
   "cell_type": "code",
   "execution_count": 12,
   "metadata": {
    "executionInfo": {
     "elapsed": 98723,
     "status": "ok",
     "timestamp": 1615070332223,
     "user": {
      "displayName": "Дмитрий Зеленин",
      "photoUrl": "https://lh3.googleusercontent.com/a-/AOh14GipAVqvGUDyzuPjOfJR-p9zFprHJyE0eR-cN_rS6Q=s64",
      "userId": "06754578418295277569"
     },
     "user_tz": -180
    },
    "id": "pugpNLIDqeLF"
   },
   "outputs": [],
   "source": [
    "#tfile = open('/content/drive/My Drive/Colab Notebooks/eng_rus_seq2seq/eng_rus.txt', 'a')\n",
    "#tfile.write(df.to_string())\n",
    "#tfile.close()"
   ]
  },
  {
   "cell_type": "code",
   "execution_count": 10,
   "metadata": {
    "executionInfo": {
     "elapsed": 2024,
     "status": "ok",
     "timestamp": 1615199598798,
     "user": {
      "displayName": "Дмитрий Зеленин",
      "photoUrl": "https://lh3.googleusercontent.com/a-/AOh14GipAVqvGUDyzuPjOfJR-p9zFprHJyE0eR-cN_rS6Q=s64",
      "userId": "06754578418295277569"
     },
     "user_tz": -180
    },
    "id": "GL2-CEbjwvxH"
   },
   "outputs": [],
   "source": [
    "df.to_csv('/content/drive/My Drive/Colab Notebooks/eng_rus_seq2seq/eng_rus.txt', header=False, index=False, sep='\\t', mode='a')\n"
   ]
  },
  {
   "cell_type": "code",
   "execution_count": 11,
   "metadata": {
    "colab": {
     "base_uri": "https://localhost:8080/"
    },
    "executionInfo": {
     "elapsed": 1234,
     "status": "ok",
     "timestamp": 1615199603961,
     "user": {
      "displayName": "Дмитрий Зеленин",
      "photoUrl": "https://lh3.googleusercontent.com/a-/AOh14GipAVqvGUDyzuPjOfJR-p9zFprHJyE0eR-cN_rS6Q=s64",
      "userId": "06754578418295277569"
     },
     "user_tz": -180
    },
    "id": "FVLX--1squIb",
    "outputId": "ae4529b9-1d06-46f0-ce07-13667c450974"
   },
   "outputs": [
    {
     "name": "stdout",
     "output_type": "stream",
     "text": [
      "\"Tom said, \"\"You can kiss your girlfriend goodbye if you don't kiss her goodbye,\"\" which meant, \"\"If you don't kiss your girlfriend goodbye, then you'll never see her again.\"\"\"\t«Можешь попрощаться со своей подружкой, если ты с ней не попрощаешься», — сказал Том, что означало «если ты не попрощаешься со своей подружкой, то больше ты её никогда не увидишь».\n",
      "The more countries a language is spoken in, the less important it is to sound like a native speaker, since speakers of that language are accustomed to hearing various dialects.\tЧем в большем количестве стран используется тот или иной язык, тем менее важно иметь такое же произношение, как у его носителей, так как носители этого языка привыкли к звучанию различных акцентов.\n",
      "A mistake young people often make is to start learning too many languages at the same time, as they underestimate the difficulties and overestimate their own ability to learn them.\tОшибка, которую часто делают молодые, — начинают учить слишком много языков одновременно: они недооценивают трудности и переоценивают свои способности к изучению.\n",
      "We need to uphold laws against discrimination — in hiring, and in housing, and in education, and in the criminal justice system. That is what our Constitution and our highest ideals require.\tНам нужно отстаивать законы против дискриминации при найме на работу, в жилищной сфере, в сфере образования и правоохранительной системе. Этого требуют наша Конституция и высшие идеалы.\n",
      "I do have one final ask of you as your president, the same thing I asked when you took a chance on me eight years ago. I'm asking you to believe, not in my ability to bring about change but in yours.\tУ меня же, как у вашего президента, есть к вам последняя просьба. Та же самая, что и восемь лет назад, когда вы оказали мне своё доверие. Я прошу вас верить, но не в мои способности добиться перемен, а в ваши.\n",
      "In today's world, we have to equip all our kids with an education that prepares them for success, regardless of what they look like, or how much their parents make, or the zip code that they live in.\tВ современном мире перед нами стоит задача дать всем нашим детям такое образование, которое настроит их на успех вне зависимости от того, как они выглядят, сколько зарабатывают их родители или какой у них почтовый индекс.\n",
      "Death is something that we're often discouraged to talk about or even think about, but I've realized that preparing for death is one of the most empowering things you can do. Thinking about death clarifies your life.\tСмерть - это зачастую то, разговоры или даже мысли о чем приводят в уныние, но я осознал, что готовность умереть наделяет силой, как ничто другое. Мысль о смерти вносит ясность в твою жизнь.\n",
      "At a moment when our economy is growing, our businesses are creating jobs at the fastest pace since the 1990s, and wages are starting to rise again, we have to make some choices about the kind of country we want to be.\tВ тот момент, когда наша экономика растёт, наши предприятия создают рабочие места наибольшими темпами, начиная с 90-х годов, а зарплаты снова начинают расти, мы должны принять ряд решений относительно того, какой страной мы хотим быть.\n",
      "Since there are usually multiple websites on any given topic, I usually just click the back button when I arrive on any webpage that has pop-up advertising. I just go to the next page found by Google and hope for something less irritating.\t\"Поскольку сайтов, посвящённых какой-либо теме, как правило, несколько, я обычно просто нажимаю на кнопку \"\"назад\"\", если попадаю на страницу со всплывающей рекламой. Я просто перехожу на следующую страницу, найденную гуглом, и надеюсь найти что-то менее раздражающее.\"\n",
      "Doubtless there exists in this world precisely the right woman for any given man to marry and vice versa; but when you consider that a human being has the opportunity of being acquainted with only a few hundred people, and out of the few hundred that there are but a dozen or less whom he knows intimately, and out of the dozen, one or two friends at most, it will easily be seen, when we remember the number of millions who inhabit this world, that probably, since the earth was created, the right man has never yet met the right woman.\tНесомненно, для каждого мужчины в этом мире где-то есть подходящая женщина, которая может стать ему женой, обратное верно и для женщин. Но если учесть, что у человека может быть максимум несколько сотен знакомых, из которых лишь дюжина, а то и меньше, тех, кого он знает близко, а из этой дюжины у него один или от силы два друга, то можно легко увидеть, что с учётом миллионов живущих на Земле людей, ни один подходящий мужчина, возможно, ещё не встретил подходящую женщину.\n"
     ]
    }
   ],
   "source": [
    "!tail '/content/drive/My Drive/Colab Notebooks/eng_rus_seq2seq/eng_rus.txt'"
   ]
  },
  {
   "cell_type": "markdown",
   "metadata": {
    "id": "eZk4YhSExNJo"
   },
   "source": [
    "Наконец-то удалили эту вездес.ущую рекламу."
   ]
  },
  {
   "cell_type": "markdown",
   "metadata": {
    "id": "-K2DQiL6o55E"
   },
   "source": [
    " Теперь точно разделено на английский текст и русский"
   ]
  },
  {
   "cell_type": "code",
   "execution_count": 12,
   "metadata": {
    "executionInfo": {
     "elapsed": 1121,
     "status": "ok",
     "timestamp": 1615199614272,
     "user": {
      "displayName": "Дмитрий Зеленин",
      "photoUrl": "https://lh3.googleusercontent.com/a-/AOh14GipAVqvGUDyzuPjOfJR-p9zFprHJyE0eR-cN_rS6Q=s64",
      "userId": "06754578418295277569"
     },
     "user_tz": -180
    },
    "id": "kyNnJyruM9t1"
   },
   "outputs": [],
   "source": [
    "SOS_token = 0\n",
    "EOS_token = 1\n",
    "\n",
    "\n",
    "class Lang:\n",
    "    def __init__(self, name):\n",
    "        self.name = name\n",
    "        self.word2index = {}\n",
    "        self.word2count = {}\n",
    "        self.index2word = {0: \"SOS\", 1: \"EOS\"}\n",
    "        self.n_words = 2  # Count SOS and EOS\n",
    "\n",
    "    def addSentence(self, sentence):\n",
    "        for word in sentence.split(' '):\n",
    "            self.addWord(word)\n",
    "\n",
    "    def addWord(self, word):\n",
    "        if word not in self.word2index:\n",
    "            self.word2index[word] = self.n_words\n",
    "            self.word2count[word] = 1\n",
    "            self.index2word[self.n_words] = word\n",
    "            self.n_words += 1\n",
    "        else:\n",
    "            self.word2count[word] += 1"
   ]
  },
  {
   "cell_type": "code",
   "execution_count": 13,
   "metadata": {
    "executionInfo": {
     "elapsed": 935,
     "status": "ok",
     "timestamp": 1615199621863,
     "user": {
      "displayName": "Дмитрий Зеленин",
      "photoUrl": "https://lh3.googleusercontent.com/a-/AOh14GipAVqvGUDyzuPjOfJR-p9zFprHJyE0eR-cN_rS6Q=s64",
      "userId": "06754578418295277569"
     },
     "user_tz": -180
    },
    "id": "FXKs8j4bM9t6"
   },
   "outputs": [],
   "source": [
    "# Turn a Unicode string to plain ASCII, thanks to\n",
    "# http://stackoverflow.com/a/518232/2809427\n",
    "def unicodeToAscii(s):\n",
    "    return ''.join(\n",
    "        c for c in unicodedata.normalize('NFD', s)\n",
    "        if unicodedata.category(c) != 'Mn'\n",
    "    )\n",
    "\n",
    "# Lowercase, trim, and remove non-letter characters\n",
    "\n",
    "\n",
    "def normalizeString(s):\n",
    "    s = unicodeToAscii(s.lower().strip())\n",
    "    s = re.sub(r\"([.!?])\", r\" \\1\", s)\n",
    "    s = re.sub(r\"[^a-zа-яёA-ZА-ЯЁ.!?]+\", r\" \", s)\n",
    "    return s"
   ]
  },
  {
   "cell_type": "code",
   "execution_count": 14,
   "metadata": {
    "executionInfo": {
     "elapsed": 939,
     "status": "ok",
     "timestamp": 1615199633792,
     "user": {
      "displayName": "Дмитрий Зеленин",
      "photoUrl": "https://lh3.googleusercontent.com/a-/AOh14GipAVqvGUDyzuPjOfJR-p9zFprHJyE0eR-cN_rS6Q=s64",
      "userId": "06754578418295277569"
     },
     "user_tz": -180
    },
    "id": "D8T4VxZeM9t-"
   },
   "outputs": [],
   "source": [
    "def readLangs(lang1, lang2, reverse=False):\n",
    "    print(\"Reading lines...\")\n",
    "\n",
    "    # Read the file and split into lines\n",
    "    lines = open('/content/drive/My Drive/Colab Notebooks/eng_rus_seq2seq/%s_%s.txt' % (lang1, lang2), encoding='utf-8').\\\n",
    "        read().strip().split('\\n')\n",
    "\n",
    "    # Split every line into pairs and normalize\n",
    "    pairs = [[normalizeString(s) for s in l.split('\\t')] for l in lines]\n",
    "\n",
    "    # Reverse pairs, make Lang instances\n",
    "    if reverse:\n",
    "        pairs = [list(reversed(p)) for p in pairs]\n",
    "        input_lang = Lang(lang2)\n",
    "        output_lang = Lang(lang1)\n",
    "    else:\n",
    "        input_lang = Lang(lang1)\n",
    "        output_lang = Lang(lang2)\n",
    "\n",
    "    return input_lang, output_lang, pairs"
   ]
  },
  {
   "cell_type": "code",
   "execution_count": 15,
   "metadata": {
    "executionInfo": {
     "elapsed": 1004,
     "status": "ok",
     "timestamp": 1615199700900,
     "user": {
      "displayName": "Дмитрий Зеленин",
      "photoUrl": "https://lh3.googleusercontent.com/a-/AOh14GipAVqvGUDyzuPjOfJR-p9zFprHJyE0eR-cN_rS6Q=s64",
      "userId": "06754578418295277569"
     },
     "user_tz": -180
    },
    "id": "eBOwgEBdM9uB"
   },
   "outputs": [],
   "source": [
    "MAX_LENGTH = 10\n",
    "eng_prefixes = (\n",
    "    \"i am \", \"i m \",\n",
    "    \"he is\", \"he s \",\n",
    "    \"she is\", \"she s\",\n",
    "    \"you are\", \"you re \",\n",
    "    \"we are\", \"we re \",\n",
    "    \"they are\", \"they re \"\n",
    ")\n",
    "\n",
    "\n",
    "def filterPair(p):\n",
    "    return len(p[0].split(' ')) < MAX_LENGTH and \\\n",
    "        len(p[1].split(' ')) < MAX_LENGTH and \\\n",
    "        p[1].startswith(eng_prefixes)\n",
    "\n",
    "\n",
    "def filterPairs(pairs):\n",
    "    return [pair for pair in pairs if filterPair(pair)]"
   ]
  },
  {
   "cell_type": "code",
   "execution_count": 16,
   "metadata": {
    "colab": {
     "base_uri": "https://localhost:8080/"
    },
    "executionInfo": {
     "elapsed": 17362,
     "status": "ok",
     "timestamp": 1615199724283,
     "user": {
      "displayName": "Дмитрий Зеленин",
      "photoUrl": "https://lh3.googleusercontent.com/a-/AOh14GipAVqvGUDyzuPjOfJR-p9zFprHJyE0eR-cN_rS6Q=s64",
      "userId": "06754578418295277569"
     },
     "user_tz": -180
    },
    "id": "6dZOGjd5M9uE",
    "outputId": "7f0b139b-8f45-45dd-a23e-9ff91e864c4a"
   },
   "outputs": [
    {
     "name": "stdout",
     "output_type": "stream",
     "text": [
      "Reading lines...\n",
      "Read 421765 sentence pairs\n",
      "Trimmed to 24897 sentence pairs\n",
      "Counting words...\n",
      "Counted words:\n",
      "rus 9420\n",
      "eng 4065\n",
      "['я лишь говорю тебе правду .', 'i m just telling you the truth .']\n"
     ]
    }
   ],
   "source": [
    "def prepareData(lang1, lang2, reverse=False):\n",
    "    input_lang, output_lang, pairs = readLangs(lang1, lang2, reverse)\n",
    "    print(\"Read %s sentence pairs\" % len(pairs))\n",
    "    pairs = filterPairs(pairs)\n",
    "    print(\"Trimmed to %s sentence pairs\" % len(pairs))\n",
    "    print(\"Counting words...\")\n",
    "    for pair in pairs:\n",
    "        input_lang.addSentence(pair[0])\n",
    "        output_lang.addSentence(pair[1])\n",
    "    print(\"Counted words:\")\n",
    "    print(input_lang.name, input_lang.n_words)\n",
    "    print(output_lang.name, output_lang.n_words)\n",
    "    return input_lang, output_lang, pairs\n",
    "\n",
    "\n",
    "input_lang, output_lang, pairs = prepareData('eng', 'rus', True)\n",
    "print(random.choice(pairs))"
   ]
  },
  {
   "cell_type": "markdown",
   "metadata": {
    "id": "vgtWqznCM9uH"
   },
   "source": [
    "The Encoder\n",
    "-----------\n",
    "\n",
    "\n",
    "\n"
   ]
  },
  {
   "cell_type": "markdown",
   "metadata": {
    "id": "oxp8YeruaPzp"
   },
   "source": [
    "Лекционный EncoderRNN (не запускаю):"
   ]
  },
  {
   "cell_type": "code",
   "execution_count": 33,
   "metadata": {
    "executionInfo": {
     "elapsed": 863,
     "status": "ok",
     "timestamp": 1615072620377,
     "user": {
      "displayName": "Дмитрий Зеленин",
      "photoUrl": "https://lh3.googleusercontent.com/a-/AOh14GipAVqvGUDyzuPjOfJR-p9zFprHJyE0eR-cN_rS6Q=s64",
      "userId": "06754578418295277569"
     },
     "user_tz": -180
    },
    "id": "m9vm9QBWM9uI"
   },
   "outputs": [],
   "source": [
    "class EncoderRNN(nn.Module):\n",
    "    def __init__(self, input_size, hidden_size):\n",
    "        super(EncoderRNN, self).__init__()\n",
    "        self.hidden_size = hidden_size\n",
    "\n",
    "        self.embedding = nn.Embedding(input_size, hidden_size)\n",
    "        self.gru = nn.GRU(hidden_size, hidden_size)\n",
    "\n",
    "    def forward(self, input, hidden):\n",
    "        embedded = self.embedding(input).view(1, 1, -1)\n",
    "        output = embedded\n",
    "        output, hidden = self.gru(output, hidden)\n",
    "        return output, hidden\n",
    "\n",
    "    def initHidden(self):\n",
    "        return torch.zeros(1, 1, self.hidden_size, device=device)"
   ]
  },
  {
   "cell_type": "markdown",
   "metadata": {
    "id": "JpXp4TA2aZvO"
   },
   "source": [
    "Добавил параметры 'rnn_type' и 'rnn_n', чтобы было всё в одном месте (по решениям задач)."
   ]
  },
  {
   "cell_type": "code",
   "execution_count": 17,
   "metadata": {
    "executionInfo": {
     "elapsed": 754,
     "status": "ok",
     "timestamp": 1615200039161,
     "user": {
      "displayName": "Дмитрий Зеленин",
      "photoUrl": "https://lh3.googleusercontent.com/a-/AOh14GipAVqvGUDyzuPjOfJR-p9zFprHJyE0eR-cN_rS6Q=s64",
      "userId": "06754578418295277569"
     },
     "user_tz": -180
    },
    "id": "NyBi2Y8NaD8x"
   },
   "outputs": [],
   "source": [
    "class EncoderRNN(nn.Module):\n",
    "    def __init__(self, input_size, hidden_size, rnn_type='gru', rnn_n=1):\n",
    "        super(EncoderRNN, self).__init__()\n",
    "        self.hidden_size = hidden_size\n",
    "        self.rnn_n = rnn_n\n",
    "\n",
    "        self.embedding = nn.Embedding(input_size, hidden_size)\n",
    "        if rnn_type == 'gru':\n",
    "            self.rnn = nn.GRU(hidden_size, hidden_size)  # по умолчанию, как на лекции\n",
    "        elif rnn_type == 'lstm':\n",
    "            self.rnn = nn.LSTM(hidden_size, hidden_size) # меняем gru на lstm\n",
    "        if self.rnn_n == 2:\n",
    "            if rnn_type == 'gru':\n",
    "                self.rnn_2 = nn.GRU(hidden_size, hidden_size) # если два слоя добавляем  gru\n",
    "            elif rnn_type == 'lstm':\n",
    "                self.rnn_2 = nn.LSTM(hidden_size, hidden_size) #или добавляем lstm\n",
    "\n",
    "    def forward(self, input, hidden):\n",
    "        output = self.embedding(input).view(1, 1, -1)\n",
    "        output, hidden = self.rnn(output, hidden)\n",
    "        if self.rnn_n == 2:\n",
    "            output, hidden = self.rnn_2(output, hidden)\n",
    "        return output, hidden\n",
    "\n",
    "    def initHidden(self):\n",
    "        if isinstance(self.rnn, nn.LSTM):\n",
    "            return (torch.zeros(1, 1, self.hidden_size, device=device),\n",
    "                    torch.zeros(1, 1, self.hidden_size, device=device))\n",
    "        return torch.zeros(1, 1, self.hidden_size, device=device)"
   ]
  },
  {
   "cell_type": "markdown",
   "metadata": {
    "id": "FwLTlgSyM9uK"
   },
   "source": [
    "The Decoder\n",
    "-----------\n",
    "\n",
    "\n"
   ]
  },
  {
   "cell_type": "markdown",
   "metadata": {
    "id": "FNyAsv2LbMCm"
   },
   "source": [
    "Лекционный  Decoder (не запускаю):"
   ]
  },
  {
   "cell_type": "code",
   "execution_count": 34,
   "metadata": {
    "executionInfo": {
     "elapsed": 858,
     "status": "ok",
     "timestamp": 1615072623849,
     "user": {
      "displayName": "Дмитрий Зеленин",
      "photoUrl": "https://lh3.googleusercontent.com/a-/AOh14GipAVqvGUDyzuPjOfJR-p9zFprHJyE0eR-cN_rS6Q=s64",
      "userId": "06754578418295277569"
     },
     "user_tz": -180
    },
    "id": "PFbuUL1LM9uL"
   },
   "outputs": [],
   "source": [
    "class DecoderRNN(nn.Module):\n",
    "    def __init__(self, hidden_size, output_size):\n",
    "        super(DecoderRNN, self).__init__()\n",
    "        self.hidden_size = hidden_size\n",
    "\n",
    "        self.embedding = nn.Embedding(output_size, hidden_size)\n",
    "        self.gru = nn.GRU(hidden_size, hidden_size)\n",
    "        self.out = nn.Linear(hidden_size, output_size)\n",
    "        self.softmax = nn.LogSoftmax(dim=1)\n",
    "\n",
    "    def forward(self, input, hidden):\n",
    "        output = self.embedding(input).view(1, 1, -1)\n",
    "        output = F.relu(output)\n",
    "        output, hidden = self.gru(output, hidden)\n",
    "        output = self.softmax(self.out(output[0]))\n",
    "        return output, hidden\n",
    "\n",
    "    def initHidden(self):\n",
    "        return torch.zeros(1, 1, self.hidden_size, device=device)"
   ]
  },
  {
   "cell_type": "markdown",
   "metadata": {
    "id": "hhrQ3otYbXfr"
   },
   "source": [
    "Добавил параметры 'rnn_type' и 'rnn_n', как и в случае с Encoder."
   ]
  },
  {
   "cell_type": "code",
   "execution_count": 18,
   "metadata": {
    "executionInfo": {
     "elapsed": 780,
     "status": "ok",
     "timestamp": 1615200205155,
     "user": {
      "displayName": "Дмитрий Зеленин",
      "photoUrl": "https://lh3.googleusercontent.com/a-/AOh14GipAVqvGUDyzuPjOfJR-p9zFprHJyE0eR-cN_rS6Q=s64",
      "userId": "06754578418295277569"
     },
     "user_tz": -180
    },
    "id": "8jzfO9fibnSz"
   },
   "outputs": [],
   "source": [
    "class DecoderRNN(nn.Module):\n",
    "    def __init__(self, hidden_size, output_size, rnn_type='gru', rnn_n=1):\n",
    "        super(DecoderRNN, self).__init__()\n",
    "        self.hidden_size = hidden_size\n",
    "        self.rnn_n = rnn_n\n",
    "\n",
    "        self.embedding = nn.Embedding(output_size, hidden_size)\n",
    "        if rnn_type == 'gru':\n",
    "            self.rnn = nn.GRU(hidden_size, hidden_size)\n",
    "        elif rnn_type == 'lstm':\n",
    "            self.rnn = nn.LSTM(hidden_size, hidden_size)\n",
    "        if self.rnn_n == 2:\n",
    "            if rnn_type == 'gru':\n",
    "                self.rnn_2 = nn.GRU(hidden_size, hidden_size)\n",
    "            elif rnn_type == 'lstm':\n",
    "                self.rnn_2 = nn.LSTM(hidden_size, hidden_size)\n",
    "        self.out = nn.Linear(hidden_size, output_size)\n",
    "        self.softmax = nn.LogSoftmax(dim=1)\n",
    "\n",
    "    def forward(self, input, hidden):\n",
    "        output = self.embedding(input).view(1, 1, -1)\n",
    "        output = F.relu(output)\n",
    "        output, hidden = self.rnn(output, hidden)\n",
    "        if self.rnn_n == 2:\n",
    "            output, hidden = self.rnn_2(output, hidden)\n",
    "        output = self.softmax(self.out(output[0]))\n",
    "        return output, hidden\n",
    "\n",
    "    def initHidden(self):\n",
    "        if isinstance(self.rnn, nn.LSTM):\n",
    "            return (torch.zeros(1, 1, self.hidden_size, device=device),\n",
    "                    torch.zeros(1, 1, self.hidden_size, device=device))\n",
    "        return torch.zeros(1, 1, self.hidden_size, device=device)"
   ]
  },
  {
   "cell_type": "code",
   "execution_count": 19,
   "metadata": {
    "executionInfo": {
     "elapsed": 744,
     "status": "ok",
     "timestamp": 1615200310416,
     "user": {
      "displayName": "Дмитрий Зеленин",
      "photoUrl": "https://lh3.googleusercontent.com/a-/AOh14GipAVqvGUDyzuPjOfJR-p9zFprHJyE0eR-cN_rS6Q=s64",
      "userId": "06754578418295277569"
     },
     "user_tz": -180
    },
    "id": "z6gGPtXFM9uQ"
   },
   "outputs": [],
   "source": [
    "def indexesFromSentence(lang, sentence):\n",
    "    return [lang.word2index[word] for word in sentence.split(' ')]\n",
    "\n",
    "\n",
    "def tensorFromSentence(lang, sentence):\n",
    "    indexes = indexesFromSentence(lang, sentence)\n",
    "    indexes.append(EOS_token)\n",
    "    return torch.tensor(indexes, dtype=torch.long, device=device).view(-1, 1)\n",
    "\n",
    "\n",
    "def tensorsFromPair(pair):\n",
    "    input_tensor = tensorFromSentence(input_lang, pair[0])\n",
    "    target_tensor = tensorFromSentence(output_lang, pair[1])\n",
    "    return (input_tensor, target_tensor)"
   ]
  },
  {
   "cell_type": "code",
   "execution_count": 20,
   "metadata": {
    "executionInfo": {
     "elapsed": 949,
     "status": "ok",
     "timestamp": 1615200313845,
     "user": {
      "displayName": "Дмитрий Зеленин",
      "photoUrl": "https://lh3.googleusercontent.com/a-/AOh14GipAVqvGUDyzuPjOfJR-p9zFprHJyE0eR-cN_rS6Q=s64",
      "userId": "06754578418295277569"
     },
     "user_tz": -180
    },
    "id": "8Fn8VDv8M9uS"
   },
   "outputs": [],
   "source": [
    "teacher_forcing_ratio = 0.5\n",
    "\n",
    "\n",
    "def train(input_tensor, target_tensor, encoder, decoder, encoder_optimizer, decoder_optimizer, criterion, max_length=MAX_LENGTH):\n",
    "    encoder_hidden = encoder.initHidden()\n",
    "\n",
    "    encoder_optimizer.zero_grad()\n",
    "    decoder_optimizer.zero_grad()\n",
    "\n",
    "    input_length = input_tensor.size(0)\n",
    "    target_length = target_tensor.size(0)\n",
    "\n",
    "    encoder_outputs = torch.zeros(max_length, encoder.hidden_size, device=device)\n",
    "\n",
    "    loss = 0\n",
    "\n",
    "    for ei in range(input_length):\n",
    "        encoder_output, encoder_hidden = encoder(\n",
    "            input_tensor[ei], encoder_hidden)\n",
    "        encoder_outputs[ei] = encoder_output[0, 0]\n",
    "\n",
    "    decoder_input = torch.tensor([[SOS_token]], device=device)\n",
    "\n",
    "    decoder_hidden = encoder_hidden\n",
    "\n",
    "    use_teacher_forcing = True if random.random() < teacher_forcing_ratio else False\n",
    "\n",
    "    if use_teacher_forcing:\n",
    "        # Teacher forcing: Feed the target as the next input\n",
    "        for di in range(target_length):\n",
    "            decoder_output, decoder_hidden = decoder(\n",
    "                decoder_input, decoder_hidden)\n",
    "            loss += criterion(decoder_output, target_tensor[di])\n",
    "            decoder_input = target_tensor[di]  # Teacher forcing\n",
    "\n",
    "    else:\n",
    "        # Without teacher forcing: use its own predictions as the next input\n",
    "        for di in range(target_length):\n",
    "            decoder_output, decoder_hidden = decoder(\n",
    "                decoder_input, decoder_hidden)\n",
    "            topv, topi = decoder_output.topk(1)\n",
    "            decoder_input = topi.squeeze().detach()  # detach from history as input\n",
    "\n",
    "            loss += criterion(decoder_output, target_tensor[di])\n",
    "            if decoder_input.item() == EOS_token:\n",
    "                break\n",
    "\n",
    "    loss.backward()\n",
    "\n",
    "    encoder_optimizer.step()\n",
    "    decoder_optimizer.step()\n",
    "\n",
    "    return loss.item() / target_length"
   ]
  },
  {
   "cell_type": "code",
   "execution_count": 21,
   "metadata": {
    "executionInfo": {
     "elapsed": 959,
     "status": "ok",
     "timestamp": 1615200325788,
     "user": {
      "displayName": "Дмитрий Зеленин",
      "photoUrl": "https://lh3.googleusercontent.com/a-/AOh14GipAVqvGUDyzuPjOfJR-p9zFprHJyE0eR-cN_rS6Q=s64",
      "userId": "06754578418295277569"
     },
     "user_tz": -180
    },
    "id": "EKsdwPmSM9uU"
   },
   "outputs": [],
   "source": [
    "import time\n",
    "import math\n",
    "\n",
    "\n",
    "def asMinutes(s):\n",
    "    m = math.floor(s / 60)\n",
    "    s -= m * 60\n",
    "    return '%dm %ds' % (m, s)\n",
    "\n",
    "\n",
    "def timeSince(since, percent):\n",
    "    now = time.time()\n",
    "    s = now - since\n",
    "    es = s / (percent)\n",
    "    rs = es - s\n",
    "    return '%s (- %s)' % (asMinutes(s), asMinutes(rs))"
   ]
  },
  {
   "cell_type": "code",
   "execution_count": 22,
   "metadata": {
    "executionInfo": {
     "elapsed": 937,
     "status": "ok",
     "timestamp": 1615200332756,
     "user": {
      "displayName": "Дмитрий Зеленин",
      "photoUrl": "https://lh3.googleusercontent.com/a-/AOh14GipAVqvGUDyzuPjOfJR-p9zFprHJyE0eR-cN_rS6Q=s64",
      "userId": "06754578418295277569"
     },
     "user_tz": -180
    },
    "id": "C_z_k5IiM9uX"
   },
   "outputs": [],
   "source": [
    "def trainIters(encoder, decoder, n_iters, print_every=1000, plot_every=100, learning_rate=0.01):\n",
    "    start = time.time()\n",
    "    plot_losses = []\n",
    "    print_loss_total = 0  # Reset every print_every\n",
    "    plot_loss_total = 0  # Reset every plot_every\n",
    "\n",
    "    encoder_optimizer = optim.SGD(encoder.parameters(), lr=learning_rate)\n",
    "    decoder_optimizer = optim.SGD(decoder.parameters(), lr=learning_rate)\n",
    "    training_pairs = [tensorsFromPair(random.choice(pairs))\n",
    "                      for i in range(n_iters)]\n",
    "    criterion = nn.NLLLoss()\n",
    "\n",
    "    for iter in range(1, n_iters + 1):\n",
    "        training_pair = training_pairs[iter - 1]\n",
    "        input_tensor = training_pair[0]\n",
    "        target_tensor = training_pair[1]\n",
    "\n",
    "        loss = train(input_tensor, target_tensor, encoder,\n",
    "                     decoder, encoder_optimizer, decoder_optimizer, criterion)\n",
    "        print_loss_total += loss\n",
    "        plot_loss_total += loss\n",
    "\n",
    "        if iter % print_every == 0:\n",
    "            print_loss_avg = print_loss_total / print_every\n",
    "            print_loss_total = 0\n",
    "            print('%s (%d %d%%) %.4f' % (timeSince(start, iter / n_iters),\n",
    "                                         iter, iter / n_iters * 100, print_loss_avg))\n",
    "\n",
    "        if iter % plot_every == 0:\n",
    "            plot_loss_avg = plot_loss_total / plot_every\n",
    "            plot_losses.append(plot_loss_avg)\n",
    "            plot_loss_total = 0\n",
    "\n",
    "    showPlot(plot_losses)"
   ]
  },
  {
   "cell_type": "code",
   "execution_count": 23,
   "metadata": {
    "executionInfo": {
     "elapsed": 958,
     "status": "ok",
     "timestamp": 1615200337208,
     "user": {
      "displayName": "Дмитрий Зеленин",
      "photoUrl": "https://lh3.googleusercontent.com/a-/AOh14GipAVqvGUDyzuPjOfJR-p9zFprHJyE0eR-cN_rS6Q=s64",
      "userId": "06754578418295277569"
     },
     "user_tz": -180
    },
    "id": "0JXG-RzCM9uZ"
   },
   "outputs": [],
   "source": [
    "import matplotlib.pyplot as plt\n",
    "plt.switch_backend('agg')\n",
    "import matplotlib.ticker as ticker\n",
    "import numpy as np\n",
    "\n",
    "\n",
    "def showPlot(points):\n",
    "    plt.figure()\n",
    "    fig, ax = plt.subplots()\n",
    "    # this locator puts ticks at regular intervals\n",
    "    loc = ticker.MultipleLocator(base=0.2)\n",
    "    ax.yaxis.set_major_locator(loc)\n",
    "    plt.plot(points)"
   ]
  },
  {
   "cell_type": "code",
   "execution_count": 24,
   "metadata": {
    "executionInfo": {
     "elapsed": 924,
     "status": "ok",
     "timestamp": 1615200340971,
     "user": {
      "displayName": "Дмитрий Зеленин",
      "photoUrl": "https://lh3.googleusercontent.com/a-/AOh14GipAVqvGUDyzuPjOfJR-p9zFprHJyE0eR-cN_rS6Q=s64",
      "userId": "06754578418295277569"
     },
     "user_tz": -180
    },
    "id": "3Bxf45h6M9ud"
   },
   "outputs": [],
   "source": [
    "def evaluate(encoder, decoder, sentence, max_length=MAX_LENGTH):\n",
    "    with torch.no_grad():\n",
    "        input_tensor = tensorFromSentence(input_lang, sentence)\n",
    "        input_length = input_tensor.size()[0]\n",
    "        encoder_hidden = encoder.initHidden()\n",
    "\n",
    "        encoder_outputs = torch.zeros(max_length, encoder.hidden_size, device=device)\n",
    "\n",
    "        for ei in range(input_length):\n",
    "            encoder_output, encoder_hidden = encoder(input_tensor[ei],\n",
    "                                                     encoder_hidden)\n",
    "            encoder_outputs[ei] += encoder_output[0, 0]\n",
    "\n",
    "        decoder_input = torch.tensor([[SOS_token]], device=device)  # SOS\n",
    "\n",
    "        decoder_hidden = encoder_hidden\n",
    "\n",
    "        decoded_words = []\n",
    "\n",
    "        for di in range(max_length):\n",
    "            decoder_output, decoder_hidden = decoder(\n",
    "                decoder_input, decoder_hidden)\n",
    "            topv, topi = decoder_output.data.topk(1)\n",
    "            if topi.item() == EOS_token:\n",
    "                decoded_words.append('<EOS>')\n",
    "                break\n",
    "            else:\n",
    "                decoded_words.append(output_lang.index2word[topi.item()])\n",
    "\n",
    "            decoder_input = topi.squeeze().detach()\n",
    "\n",
    "        return decoded_words"
   ]
  },
  {
   "cell_type": "code",
   "execution_count": 25,
   "metadata": {
    "executionInfo": {
     "elapsed": 947,
     "status": "ok",
     "timestamp": 1615200345242,
     "user": {
      "displayName": "Дмитрий Зеленин",
      "photoUrl": "https://lh3.googleusercontent.com/a-/AOh14GipAVqvGUDyzuPjOfJR-p9zFprHJyE0eR-cN_rS6Q=s64",
      "userId": "06754578418295277569"
     },
     "user_tz": -180
    },
    "id": "1qUmQIGwM9uf"
   },
   "outputs": [],
   "source": [
    "def evaluateRandomly(encoder, decoder, n=10):\n",
    "    for i in range(n):\n",
    "        pair = random.choice(pairs)\n",
    "        print('>', pair[0])\n",
    "        print('=', pair[1])\n",
    "        output_words = evaluate(encoder, decoder, pair[0])\n",
    "        output_sentence = ' '.join(output_words)\n",
    "        print('<', output_sentence)\n",
    "        print('')"
   ]
  },
  {
   "cell_type": "markdown",
   "metadata": {
    "id": "pWkbuXT_cX__"
   },
   "source": [
    "# GRU с одним рекуррентным слоем."
   ]
  },
  {
   "cell_type": "code",
   "execution_count": 26,
   "metadata": {
    "colab": {
     "base_uri": "https://localhost:8080/"
    },
    "executionInfo": {
     "elapsed": 1407852,
     "status": "ok",
     "timestamp": 1615201882157,
     "user": {
      "displayName": "Дмитрий Зеленин",
      "photoUrl": "https://lh3.googleusercontent.com/a-/AOh14GipAVqvGUDyzuPjOfJR-p9zFprHJyE0eR-cN_rS6Q=s64",
      "userId": "06754578418295277569"
     },
     "user_tz": -180
    },
    "id": "s_56t10oM9uh",
    "outputId": "56520303-bcea-4fbd-f967-fc8db124ef0a"
   },
   "outputs": [
    {
     "name": "stdout",
     "output_type": "stream",
     "text": [
      "1m 35s (- 22m 19s) (5000 6%) 3.1207\n",
      "3m 7s (- 20m 15s) (10000 13%) 2.6199\n",
      "4m 39s (- 18m 38s) (15000 20%) 2.3250\n",
      "6m 12s (- 17m 3s) (20000 26%) 2.1384\n",
      "7m 44s (- 15m 29s) (25000 33%) 1.9586\n",
      "9m 18s (- 13m 57s) (30000 40%) 1.8342\n",
      "10m 51s (- 12m 24s) (35000 46%) 1.7194\n",
      "12m 24s (- 10m 51s) (40000 53%) 1.6026\n",
      "13m 58s (- 9m 18s) (45000 60%) 1.4970\n",
      "15m 31s (- 7m 45s) (50000 66%) 1.4376\n",
      "17m 4s (- 6m 12s) (55000 73%) 1.3587\n",
      "18m 37s (- 4m 39s) (60000 80%) 1.2865\n",
      "20m 11s (- 3m 6s) (65000 86%) 1.2370\n",
      "21m 44s (- 1m 33s) (70000 93%) 1.1739\n",
      "23m 18s (- 0m 0s) (75000 100%) 1.1199\n"
     ]
    }
   ],
   "source": [
    "hidden_size = 256\n",
    "encoder1 = EncoderRNN(input_lang.n_words, hidden_size).to(device)\n",
    "decoder1 = DecoderRNN(hidden_size, output_lang.n_words).to(device)\n",
    "\n",
    "trainIters(encoder1, decoder1, 75000, print_every=5000)"
   ]
  },
  {
   "cell_type": "code",
   "execution_count": 27,
   "metadata": {
    "colab": {
     "base_uri": "https://localhost:8080/"
    },
    "executionInfo": {
     "elapsed": 1256,
     "status": "ok",
     "timestamp": 1615201896062,
     "user": {
      "displayName": "Дмитрий Зеленин",
      "photoUrl": "https://lh3.googleusercontent.com/a-/AOh14GipAVqvGUDyzuPjOfJR-p9zFprHJyE0eR-cN_rS6Q=s64",
      "userId": "06754578418295277569"
     },
     "user_tz": -180
    },
    "id": "xEoEylSyM9uj",
    "outputId": "20edeab6-bec9-4745-8998-f316319dfdec"
   },
   "outputs": [
    {
     "name": "stdout",
     "output_type": "stream",
     "text": [
      "> она зависит от мужа .\n",
      "= she s dependent on her husband .\n",
      "< she is about her husband . <EOS>\n",
      "\n",
      "> жаль что вы нас покидаете .\n",
      "= i m sorry that you re leaving us .\n",
      "< i m sorry that you re leaving us . <EOS>\n",
      "\n",
      "> я немного ленив .\n",
      "= i m a bit lazy .\n",
      "< i m a little little . <EOS>\n",
      "\n",
      "> он умнее меня .\n",
      "= he is more clever than i am .\n",
      "< he s smarter than me . <EOS>\n",
      "\n",
      "> она неплохая девушка .\n",
      "= she s not a bad girl .\n",
      "< she s not a girl girl . <EOS>\n",
      "\n",
      "> по понедельникам я всегда дома .\n",
      "= i m always at home on mondays .\n",
      "< i m always at home on mondays . <EOS>\n",
      "\n",
      "> мы рады снова вас видеть .\n",
      "= we are happy to see you again .\n",
      "< we re glad to see you again . <EOS>\n",
      "\n",
      "> я старшии брат тома .\n",
      "= i m tom s older brother .\n",
      "< i m tom s older . <EOS>\n",
      "\n",
      "> я рад что это была ты .\n",
      "= i m glad it was you .\n",
      "< i m glad that that it . <EOS>\n",
      "\n",
      "> ты гораздо быстрее меня .\n",
      "= you re way faster than me .\n",
      "< you re much faster than i am . <EOS>\n",
      "\n"
     ]
    }
   ],
   "source": [
    "evaluateRandomly(encoder1, decoder1)"
   ]
  },
  {
   "cell_type": "markdown",
   "metadata": {
    "id": "L9fTgdbKqMbh"
   },
   "source": [
    "Не плохо, есть совпадения. Не идеально."
   ]
  },
  {
   "cell_type": "markdown",
   "metadata": {
    "id": "UNUMlmdKdIat"
   },
   "source": [
    "# GRU с двумя рекуррентными слоями."
   ]
  },
  {
   "cell_type": "code",
   "execution_count": 28,
   "metadata": {
    "colab": {
     "base_uri": "https://localhost:8080/"
    },
    "executionInfo": {
     "elapsed": 1900170,
     "status": "ok",
     "timestamp": 1615203829379,
     "user": {
      "displayName": "Дмитрий Зеленин",
      "photoUrl": "https://lh3.googleusercontent.com/a-/AOh14GipAVqvGUDyzuPjOfJR-p9zFprHJyE0eR-cN_rS6Q=s64",
      "userId": "06754578418295277569"
     },
     "user_tz": -180
    },
    "id": "460dJgfGdZV0",
    "outputId": "dce59611-e4a8-4e62-ade2-2f13368bc689"
   },
   "outputs": [
    {
     "name": "stdout",
     "output_type": "stream",
     "text": [
      "2m 8s (- 30m 5s) (5000 6%) 3.2927\n",
      "4m 12s (- 27m 23s) (10000 13%) 2.8870\n",
      "6m 18s (- 25m 14s) (15000 20%) 2.7364\n",
      "8m 24s (- 23m 7s) (20000 26%) 2.5930\n",
      "10m 30s (- 21m 1s) (25000 33%) 2.4745\n",
      "12m 37s (- 18m 56s) (30000 40%) 2.3371\n",
      "14m 43s (- 16m 49s) (35000 46%) 2.2230\n",
      "16m 50s (- 14m 44s) (40000 53%) 2.1099\n",
      "18m 57s (- 12m 38s) (45000 60%) 1.9787\n",
      "21m 4s (- 10m 32s) (50000 66%) 1.8866\n",
      "23m 11s (- 8m 25s) (55000 73%) 1.8278\n",
      "25m 18s (- 6m 19s) (60000 80%) 1.7260\n",
      "27m 25s (- 4m 13s) (65000 86%) 1.6681\n",
      "29m 32s (- 2m 6s) (70000 93%) 1.5956\n",
      "31m 39s (- 0m 0s) (75000 100%) 1.5600\n"
     ]
    }
   ],
   "source": [
    "hidden_size = 256\n",
    "encoder1 = EncoderRNN(input_lang.n_words, hidden_size, rnn_n=2).to(device)\n",
    "decoder1 = DecoderRNN(hidden_size, output_lang.n_words, rnn_n=2).to(device)\n",
    "\n",
    "trainIters(encoder1, decoder1, 75000, print_every=5000)"
   ]
  },
  {
   "cell_type": "code",
   "execution_count": 29,
   "metadata": {
    "colab": {
     "base_uri": "https://localhost:8080/"
    },
    "executionInfo": {
     "elapsed": 810,
     "status": "ok",
     "timestamp": 1615203907490,
     "user": {
      "displayName": "Дмитрий Зеленин",
      "photoUrl": "https://lh3.googleusercontent.com/a-/AOh14GipAVqvGUDyzuPjOfJR-p9zFprHJyE0eR-cN_rS6Q=s64",
      "userId": "06754578418295277569"
     },
     "user_tz": -180
    },
    "id": "C4pPAEEody4S",
    "outputId": "a5483fd2-c4f6-4190-db3c-3e9e44e7329e"
   },
   "outputs": [
    {
     "name": "stdout",
     "output_type": "stream",
     "text": [
      "> я отдаю тебе все что могу .\n",
      "= i m giving you all i can .\n",
      "< i m looking for you i can help . <EOS>\n",
      "\n",
      "> они запачканы .\n",
      "= they are muddy .\n",
      "< they are afraid . <EOS>\n",
      "\n",
      "> он приятныи человек .\n",
      "= he is an agreeable person .\n",
      "< he is a kind man . <EOS>\n",
      "\n",
      "> они не заключенные .\n",
      "= they re not prisoners .\n",
      "< they aren t alone . <EOS>\n",
      "\n",
      "> вы очень хорошии художник .\n",
      "= you re a very good artist .\n",
      "< you re a very good liar . <EOS>\n",
      "\n",
      "> мы не продаем наш дом .\n",
      "= we re not selling our house .\n",
      "< we aren t blaming of anything . <EOS>\n",
      "\n",
      "> удивительно что эта машина еще работает .\n",
      "= i m surprised this machine still works .\n",
      "< i m surprised that happened still alive . <EOS>\n",
      "\n",
      "> он меня на два дюима выше .\n",
      "= he is two inches taller than i am .\n",
      "< he is the years older than i am <EOS>\n",
      "\n",
      "> он упорно готовится к сдаче экзамена .\n",
      "= he is working hard to pass the examination .\n",
      "< he is the to for the . . <EOS>\n",
      "\n",
      "> я прямо позади тебя .\n",
      "= i m right behind you .\n",
      "< i m right than you are . <EOS>\n",
      "\n"
     ]
    }
   ],
   "source": [
    "evaluateRandomly(encoder1, decoder1)"
   ]
  },
  {
   "cell_type": "markdown",
   "metadata": {
    "id": "dUAE7ex_qXqg"
   },
   "source": [
    "Стало хуже. Теряется смысл. То есть увеличение слоев за счёт GRU не желательно."
   ]
  },
  {
   "cell_type": "markdown",
   "metadata": {
    "id": "WBXOIKdVd7yr"
   },
   "source": [
    "# LSTM с одним рекуррентным слоем."
   ]
  },
  {
   "cell_type": "code",
   "execution_count": 30,
   "metadata": {
    "colab": {
     "base_uri": "https://localhost:8080/"
    },
    "executionInfo": {
     "elapsed": 1435699,
     "status": "ok",
     "timestamp": 1615205529339,
     "user": {
      "displayName": "Дмитрий Зеленин",
      "photoUrl": "https://lh3.googleusercontent.com/a-/AOh14GipAVqvGUDyzuPjOfJR-p9zFprHJyE0eR-cN_rS6Q=s64",
      "userId": "06754578418295277569"
     },
     "user_tz": -180
    },
    "id": "E5w-Borzd8OW",
    "outputId": "4779d82e-129d-408c-b7ef-62f349ec7bab"
   },
   "outputs": [
    {
     "name": "stdout",
     "output_type": "stream",
     "text": [
      "1m 37s (- 22m 46s) (5000 6%) 3.2181\n",
      "3m 11s (- 20m 42s) (10000 13%) 2.7291\n",
      "4m 46s (- 19m 5s) (15000 20%) 2.5222\n",
      "6m 21s (- 17m 29s) (20000 26%) 2.3335\n",
      "7m 56s (- 15m 53s) (25000 33%) 2.1593\n",
      "9m 32s (- 14m 19s) (30000 40%) 2.0555\n",
      "11m 8s (- 12m 44s) (35000 46%) 1.9385\n",
      "12m 44s (- 11m 8s) (40000 53%) 1.8397\n",
      "14m 20s (- 9m 33s) (45000 60%) 1.7686\n",
      "15m 56s (- 7m 58s) (50000 66%) 1.6668\n",
      "17m 31s (- 6m 22s) (55000 73%) 1.5800\n",
      "19m 6s (- 4m 46s) (60000 80%) 1.5319\n",
      "20m 41s (- 3m 11s) (65000 86%) 1.4329\n",
      "22m 18s (- 1m 35s) (70000 93%) 1.3761\n",
      "23m 54s (- 0m 0s) (75000 100%) 1.3576\n"
     ]
    }
   ],
   "source": [
    "hidden_size = 256\n",
    "encoder1 = EncoderRNN(input_lang.n_words, hidden_size, rnn_type='lstm').to(device)\n",
    "decoder1 = DecoderRNN(hidden_size, output_lang.n_words, rnn_type='lstm').to(device)\n",
    "\n",
    "trainIters(encoder1, decoder1, 75000, print_every=5000)"
   ]
  },
  {
   "cell_type": "code",
   "execution_count": 31,
   "metadata": {
    "colab": {
     "base_uri": "https://localhost:8080/"
    },
    "executionInfo": {
     "elapsed": 788,
     "status": "ok",
     "timestamp": 1615205554966,
     "user": {
      "displayName": "Дмитрий Зеленин",
      "photoUrl": "https://lh3.googleusercontent.com/a-/AOh14GipAVqvGUDyzuPjOfJR-p9zFprHJyE0eR-cN_rS6Q=s64",
      "userId": "06754578418295277569"
     },
     "user_tz": -180
    },
    "id": "Ygq6nVuEePFY",
    "outputId": "3c06b1fb-e3bf-4c90-c8d6-2d38a23a01c2"
   },
   "outputs": [
    {
     "name": "stdout",
     "output_type": "stream",
     "text": [
      "> он безжалостен .\n",
      "= he s ruthless .\n",
      "< he is a . <EOS>\n",
      "\n",
      "> я удовлетворенныи .\n",
      "= i m contented .\n",
      "< i m a . <EOS>\n",
      "\n",
      "> ты теперь отец .\n",
      "= you re a father now .\n",
      "< you re a to . <EOS>\n",
      "\n",
      "> мы немного устали .\n",
      "= we re a little tired .\n",
      "< we re a little tired . <EOS>\n",
      "\n",
      "> ты такои романтичныи .\n",
      "= you re so romantic .\n",
      "< you re so stupid . <EOS>\n",
      "\n",
      "> он выпивает .\n",
      "= he s a bit of a drunkard .\n",
      "< he is a . . <EOS>\n",
      "\n",
      "> вы обманщица .\n",
      "= you re a fraud .\n",
      "< you re a . <EOS>\n",
      "\n",
      "> он очень ко мне добр .\n",
      "= he s very kind to me .\n",
      "< he is very to to me . <EOS>\n",
      "\n",
      "> они обе улыбаются .\n",
      "= they re both smiling .\n",
      "< they re both smiling . <EOS>\n",
      "\n",
      "> мы ищем сокровище .\n",
      "= we re looking for the treasure .\n",
      "< we re looking for a job . <EOS>\n",
      "\n"
     ]
    }
   ],
   "source": [
    "evaluateRandomly(encoder1, decoder1)"
   ]
  },
  {
   "cell_type": "markdown",
   "metadata": {
    "id": "PgSXdHScwRXp"
   },
   "source": [
    "На уровне GRU. Попробуем два слоя."
   ]
  },
  {
   "cell_type": "markdown",
   "metadata": {
    "id": "r38U-B3OfCZP"
   },
   "source": [
    "# LSTM с двумя рекуррентными слоями."
   ]
  },
  {
   "cell_type": "code",
   "execution_count": 32,
   "metadata": {
    "colab": {
     "base_uri": "https://localhost:8080/"
    },
    "executionInfo": {
     "elapsed": 1989680,
     "status": "ok",
     "timestamp": 1615207597014,
     "user": {
      "displayName": "Дмитрий Зеленин",
      "photoUrl": "https://lh3.googleusercontent.com/a-/AOh14GipAVqvGUDyzuPjOfJR-p9zFprHJyE0eR-cN_rS6Q=s64",
      "userId": "06754578418295277569"
     },
     "user_tz": -180
    },
    "id": "LTMRObxyfCz7",
    "outputId": "596c24b5-9e09-472f-c40f-6d931fb40b20"
   },
   "outputs": [
    {
     "name": "stdout",
     "output_type": "stream",
     "text": [
      "2m 14s (- 31m 23s) (5000 6%) 3.3574\n",
      "4m 23s (- 28m 35s) (10000 13%) 3.1298\n",
      "6m 33s (- 26m 12s) (15000 20%) 3.0550\n",
      "8m 42s (- 23m 57s) (20000 26%) 2.8107\n",
      "10m 54s (- 21m 49s) (25000 33%) 2.7191\n",
      "13m 7s (- 19m 41s) (30000 40%) 2.6775\n",
      "15m 20s (- 17m 31s) (35000 46%) 2.5867\n",
      "17m 32s (- 15m 20s) (40000 53%) 2.5173\n",
      "19m 45s (- 13m 10s) (45000 60%) 2.4623\n",
      "21m 59s (- 10m 59s) (50000 66%) 2.4053\n",
      "24m 13s (- 8m 48s) (55000 73%) 2.3255\n",
      "26m 26s (- 6m 36s) (60000 80%) 2.2665\n",
      "28m 40s (- 4m 24s) (65000 86%) 2.2136\n",
      "30m 54s (- 2m 12s) (70000 93%) 2.1469\n",
      "33m 8s (- 0m 0s) (75000 100%) 2.0745\n"
     ]
    }
   ],
   "source": [
    "hidden_size = 256\n",
    "encoder1 = EncoderRNN(input_lang.n_words, hidden_size, rnn_type='lstm', rnn_n=2).to(device)\n",
    "decoder1 = DecoderRNN(hidden_size, output_lang.n_words, rnn_type='lstm', rnn_n=2).to(device)\n",
    "\n",
    "trainIters(encoder1, decoder1, 75000, print_every=5000)"
   ]
  },
  {
   "cell_type": "code",
   "execution_count": 33,
   "metadata": {
    "colab": {
     "base_uri": "https://localhost:8080/"
    },
    "executionInfo": {
     "elapsed": 1793,
     "status": "ok",
     "timestamp": 1615208698977,
     "user": {
      "displayName": "Дмитрий Зеленин",
      "photoUrl": "https://lh3.googleusercontent.com/a-/AOh14GipAVqvGUDyzuPjOfJR-p9zFprHJyE0eR-cN_rS6Q=s64",
      "userId": "06754578418295277569"
     },
     "user_tz": -180
    },
    "id": "1kuY56psfFe4",
    "outputId": "c8026a69-b58c-4b6d-b55b-f6d02f56415f"
   },
   "outputs": [
    {
     "name": "stdout",
     "output_type": "stream",
     "text": [
      "> я ужасно голоден .\n",
      "= i m terribly hungry .\n",
      "< i m a . . <EOS>\n",
      "\n",
      "> не уверен что согласен с тобои .\n",
      "= i m not sure i agree with you .\n",
      "< i m not sure you re ready . <EOS>\n",
      "\n",
      "> я рада что мы победили .\n",
      "= i m happy we won .\n",
      "< i m glad i ve . . <EOS>\n",
      "\n",
      "> я собираюсь кое что купить тому .\n",
      "= i m going to buy tom something .\n",
      "< i m going to tom tom tom tom <EOS>\n",
      "\n",
      "> я редко опаздываю в школу .\n",
      "= i m seldom late for school .\n",
      "< i m going to to my . . <EOS>\n",
      "\n",
      "> простите но вы ошибаетесь .\n",
      "= i m sorry but you re wrong .\n",
      "< i m sorry i i you you . <EOS>\n",
      "\n",
      "> вы виновны в убиистве .\n",
      "= you are guilty of murder .\n",
      "< you re the one of . . <EOS>\n",
      "\n",
      "> я почти уверен что том победит .\n",
      "= i m pretty sure tom will win .\n",
      "< i m sure tom will be . . <EOS>\n",
      "\n",
      "> вы очень хорошо рисуете .\n",
      "= you re very good at drawing .\n",
      "< you re very good at . . <EOS>\n",
      "\n",
      "> мы не планируем ехать вместе .\n",
      "= we re not planning to go together .\n",
      "< we re not ready to help . <EOS>\n",
      "\n"
     ]
    }
   ],
   "source": [
    "evaluateRandomly(encoder1, decoder1)"
   ]
  }
 ],
 "metadata": {
  "accelerator": "GPU",
  "colab": {
   "name": "eng_rus_seq2seq.ipynb",
   "provenance": []
  },
  "kernelspec": {
   "display_name": "Python 3",
   "language": "python",
   "name": "python3"
  },
  "language_info": {
   "codemirror_mode": {
    "name": "ipython",
    "version": 3
   },
   "file_extension": ".py",
   "mimetype": "text/x-python",
   "name": "python",
   "nbconvert_exporter": "python",
   "pygments_lexer": "ipython3",
   "version": "3.8.5"
  }
 },
 "nbformat": 4,
 "nbformat_minor": 1
}
